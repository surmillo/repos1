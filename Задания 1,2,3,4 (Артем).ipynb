{
 "cells": [
  {
   "cell_type": "code",
   "execution_count": 3,
   "id": "923ea6e0",
   "metadata": {},
   "outputs": [
    {
     "name": "stdout",
     "output_type": "stream",
     "text": [
      "Введите количество минут 300\n",
      "300 минут это - 5.0 час 0.0 минут\n"
     ]
    }
   ],
   "source": [
    "a=input(\"Введите количество минут \")\n",
    "b=60\n",
    "c=float(a)//int(b)\n",
    "d=float(a)%int(b)\n",
    "print(a, \"минут это -\", c, \"час\", d, \"минут\")"
   ]
  },
  {
   "cell_type": "code",
   "execution_count": 4,
   "id": "c1fbd4d2",
   "metadata": {},
   "outputs": [
    {
     "name": "stdout",
     "output_type": "stream",
     "text": [
      "привет\n",
      "артем\n",
      "сурммилло\n",
      "сурммилло!артем!привет!"
     ]
    }
   ],
   "source": [
    "a=input(\"\")\n",
    "b=input(\"\")\n",
    "c=input(\"\")\n",
    "print(c, b, a, sep=\"!\", end=\"!\")"
   ]
  },
  {
   "cell_type": "code",
   "execution_count": 8,
   "id": "22d64cf9",
   "metadata": {},
   "outputs": [
    {
     "name": "stdout",
     "output_type": "stream",
     "text": [
      "а = 1\n",
      "b = 5\n",
      "c = 8\n",
      "нет решений в действительных числах\n"
     ]
    }
   ],
   "source": [
    "a=input(\"а = \")\n",
    "b=input(\"b = \")\n",
    "c=input(\"c = \")\n",
    "d=pow(float(b), 2)-4*float(a)*float(c)\n",
    "if d<0:\n",
    "    print(\"нет решений в действительных числах\")\n",
    "else:\n",
    "    if d==0:\n",
    "        x=-float(b)/2/float(a)\n",
    "        print(\"уравнение имеет одно решение\", \"x =\", x)\n",
    "    else:\n",
    "        x1=(-float(b)+pow(float(d), 0.5))/2/float(a)\n",
    "        x2=(-float(b)-pow(float(d), 0.5))/2/float(a)\n",
    "        print(\"x1 = \", max(x1, x2), \", x2 = \", min(x1, x2), sep=\"\")"
   ]
  },
  {
   "cell_type": "code",
   "execution_count": 7,
   "id": "9e69422d",
   "metadata": {},
   "outputs": [
    {
     "name": "stdout",
     "output_type": "stream",
     "text": [
      "введите частоту в Гц 1\n",
      "введите температуру в К 5\n",
      "6.438877977510838e-47 Дж/Гц*м^3\n"
     ]
    }
   ],
   "source": [
    "import math\n",
    "v=input(\"введите частоту в Гц \")\n",
    "T=input(\"введите температуру в К \")\n",
    "h=6.62607015*pow(10, -27)\n",
    "c=299792458\n",
    "k=1.380649*pow(10, -23)\n",
    "P=8*math.pi*h/pow(c, 3)*pow(float(v), 3)/(math.exp(h*float(v)/k/float(T))-1)\n",
    "print(P, \"Дж/Гц*м^3\")"
   ]
  },
  {
   "cell_type": "code",
   "execution_count": 2,
   "id": "255d6be2",
   "metadata": {},
   "outputs": [
    {
     "name": "stdout",
     "output_type": "stream",
     "text": [
      "введите целое трехзначное число 145\n",
      "Cумма цифр = 10\n",
      "Произведение цифр = 20\n"
     ]
    }
   ],
   "source": [
    "x=int(input(\"введите целое трехзначное число \"))\n",
    "a=(x)//100\n",
    "b=(x-a*100)//10\n",
    "c=x-a*100-b*10\n",
    "if a<1 or a>9:\n",
    "    print(\"вы дебил?\")\n",
    "else:\n",
    "    print(\"Cумма цифр =\", a+b+c)\n",
    "    print(\"Произведение цифр =\", a*b*c)"
   ]
  },
  {
   "cell_type": "code",
   "execution_count": null,
   "id": "cf75cdea",
   "metadata": {},
   "outputs": [],
   "source": []
  }
 ],
 "metadata": {
  "kernelspec": {
   "display_name": "Python 3 (ipykernel)",
   "language": "python",
   "name": "python3"
  },
  "language_info": {
   "codemirror_mode": {
    "name": "ipython",
    "version": 3
   },
   "file_extension": ".py",
   "mimetype": "text/x-python",
   "name": "python",
   "nbconvert_exporter": "python",
   "pygments_lexer": "ipython3",
   "version": "3.10.0"
  }
 },
 "nbformat": 4,
 "nbformat_minor": 5
}
